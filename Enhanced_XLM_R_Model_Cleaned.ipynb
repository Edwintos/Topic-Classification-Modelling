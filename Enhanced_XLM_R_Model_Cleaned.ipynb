{
 "cells": [
  {
   "cell_type": "code",
   "execution_count": null,
   "metadata": {
    "colab": {
     "base_uri": "https://localhost:8080/"
    },
    "id": "3SMrWQB0hRwe",
    "outputId": "8a593110-e44b-4eac-ca2e-bdcd275e89ed"
   },
   "outputs": [
    {
     "name": "stdout",
     "output_type": "stream",
     "text": [
      "Requirement already satisfied: imbalanced-learn in /usr/local/lib/python3.11/dist-packages (0.13.0)\n",
      "Requirement already satisfied: numpy<3,>=1.24.3 in /usr/local/lib/python3.11/dist-packages (from imbalanced-learn) (2.0.2)\n",
      "Requirement already satisfied: scipy<2,>=1.10.1 in /usr/local/lib/python3.11/dist-packages (from imbalanced-learn) (1.15.2)\n",
      "Requirement already satisfied: scikit-learn<2,>=1.3.2 in /usr/local/lib/python3.11/dist-packages (from imbalanced-learn) (1.6.1)\n",
      "Requirement already satisfied: sklearn-compat<1,>=0.1 in /usr/local/lib/python3.11/dist-packages (from imbalanced-learn) (0.1.3)\n",
      "Requirement already satisfied: joblib<2,>=1.1.1 in /usr/local/lib/python3.11/dist-packages (from imbalanced-learn) (1.4.2)\n",
      "Requirement already satisfied: threadpoolctl<4,>=2.0.0 in /usr/local/lib/python3.11/dist-packages (from imbalanced-learn) (3.6.0)\n"
     ]
    }
   ],
   "source": [
    "!pip install -q transformers datasets scikit-learn pandas matplotlib seaborn torch\n",
    "!pip install imbalanced-learn"
   ]
  },
  {
   "cell_type": "markdown",
   "metadata": {
    "id": "cNgtiLNWioi0"
   },
   "source": [
    "Importing libraries"
   ]
  },
  {
   "cell_type": "code",
   "execution_count": null,
   "metadata": {
    "id": "-8a84jO5iX_d"
   },
   "outputs": [],
   "source": [
    "import pandas as pd\n",
    "import numpy as np\n",
    "from sklearn.preprocessing import LabelEncoder\n",
    "from sklearn.model_selection import train_test_split\n",
    "from collections import Counter, defaultdict\n",
    "import random\n",
    "import re\n",
    "from sklearn.metrics import accuracy_score\n",
    "import numpy as np\n",
    "from transformers import XLMRobertaTokenizer, XLMRobertaForSequenceClassification\n",
    "# AdamW is no longer imported directly but is now used through TrainingArguments\n",
    "#from transformers.optimization import AdamW\n",
    "from torch.nn import CrossEntropyLoss\n",
    "import joblib\n",
    "from transformers import AutoTokenizer\n",
    "from transformers import Trainer, TrainingArguments\n",
    "from sklearn.metrics import classification_report, confusion_matrix, accuracy_score\n",
    "import matplotlib.pyplot as plt\n",
    "import seaborn as sns\n",
    "import torch\n",
    "from torch.utils.data import Dataset, DataLoader\n",
    "from sklearn.metrics import accuracy_score, precision_score, recall_score, f1_score"
   ]
  },
  {
   "cell_type": "markdown",
   "metadata": {
    "id": "Z-EeWrgsjnoN"
   },
   "source": [
    "Load and Inspect Your Dataset"
   ]
  },
  {
   "cell_type": "code",
   "execution_count": null,
   "metadata": {
    "colab": {
     "base_uri": "https://localhost:8080/",
     "height": 241
    },
    "id": "x5LVGy-JjpxN",
    "outputId": "74b50462-1d65-4590-a2ef-aa96b84e74de"
   },
   "outputs": [
    {
     "name": "stdout",
     "output_type": "stream",
     "text": [
      "Drive already mounted at /content/gdrive; to attempt to forcibly remount, call drive.mount(\"/content/gdrive\", force_remount=True).\n",
      "Dataset shape: (30620, 2)\n"
     ]
    },
    {
     "data": {
      "application/vnd.google.colaboratory.intrinsic+json": {
       "summary": "{\n  \"name\": \"df\",\n  \"rows\": 30620,\n  \"fields\": [\n    {\n      \"column\": \"Swahili Phrase\",\n      \"properties\": {\n        \"dtype\": \"string\",\n        \"num_unique_values\": 28606,\n        \"samples\": [\n          \"hakikisha omu unayoijaza ni ile inayokuhusu.\",\n          \"mjomba wako mkubwa ameshaoa?\",\n          \"nguo ya kujipanguza imefuliwa\"\n        ],\n        \"semantic_type\": \"\",\n        \"description\": \"\"\n      }\n    },\n    {\n      \"column\": \"Thematic Area\",\n      \"properties\": {\n        \"dtype\": \"category\",\n        \"num_unique_values\": 12,\n        \"samples\": [\n          \"Ceremony\",\n          \"History and government\",\n          \"Nature and environment\"\n        ],\n        \"semantic_type\": \"\",\n        \"description\": \"\"\n      }\n    }\n  ]\n}",
       "type": "dataframe",
       "variable_name": "df"
      },
      "text/html": [
       "\n",
       "  <div id=\"df-fd936a00-10f3-4631-9389-3c9fd142b89e\" class=\"colab-df-container\">\n",
       "    <div>\n",
       "<style scoped>\n",
       "    .dataframe tbody tr th:only-of-type {\n",
       "        vertical-align: middle;\n",
       "    }\n",
       "\n",
       "    .dataframe tbody tr th {\n",
       "        vertical-align: top;\n",
       "    }\n",
       "\n",
       "    .dataframe thead th {\n",
       "        text-align: right;\n",
       "    }\n",
       "</style>\n",
       "<table border=\"1\" class=\"dataframe\">\n",
       "  <thead>\n",
       "    <tr style=\"text-align: right;\">\n",
       "      <th></th>\n",
       "      <th>Swahili Phrase</th>\n",
       "      <th>Thematic Area</th>\n",
       "    </tr>\n",
       "  </thead>\n",
       "  <tbody>\n",
       "    <tr>\n",
       "      <th>0</th>\n",
       "      <td>mvua inanyesha mingi</td>\n",
       "      <td>Nature and environment</td>\n",
       "    </tr>\n",
       "    <tr>\n",
       "      <th>1</th>\n",
       "      <td>leo kuna baridi</td>\n",
       "      <td>Nature and environment</td>\n",
       "    </tr>\n",
       "    <tr>\n",
       "      <th>2</th>\n",
       "      <td>jua itawaka kesho</td>\n",
       "      <td>Nature and environment</td>\n",
       "    </tr>\n",
       "    <tr>\n",
       "      <th>3</th>\n",
       "      <td>naona mvua ishaanza kunyesha</td>\n",
       "      <td>Nature and environment</td>\n",
       "    </tr>\n",
       "    <tr>\n",
       "      <th>4</th>\n",
       "      <td>leo kuna upepo</td>\n",
       "      <td>Nature and environment</td>\n",
       "    </tr>\n",
       "  </tbody>\n",
       "</table>\n",
       "</div>\n",
       "    <div class=\"colab-df-buttons\">\n",
       "\n",
       "  <div class=\"colab-df-container\">\n",
       "    <button class=\"colab-df-convert\" onclick=\"convertToInteractive('df-fd936a00-10f3-4631-9389-3c9fd142b89e')\"\n",
       "            title=\"Convert this dataframe to an interactive table.\"\n",
       "            style=\"display:none;\">\n",
       "\n",
       "  <svg xmlns=\"http://www.w3.org/2000/svg\" height=\"24px\" viewBox=\"0 -960 960 960\">\n",
       "    <path d=\"M120-120v-720h720v720H120Zm60-500h600v-160H180v160Zm220 220h160v-160H400v160Zm0 220h160v-160H400v160ZM180-400h160v-160H180v160Zm440 0h160v-160H620v160ZM180-180h160v-160H180v160Zm440 0h160v-160H620v160Z\"/>\n",
       "  </svg>\n",
       "    </button>\n",
       "\n",
       "  <style>\n",
       "    .colab-df-container {\n",
       "      display:flex;\n",
       "      gap: 12px;\n",
       "    }\n",
       "\n",
       "    .colab-df-convert {\n",
       "      background-color: #E8F0FE;\n",
       "      border: none;\n",
       "      border-radius: 50%;\n",
       "      cursor: pointer;\n",
       "      display: none;\n",
       "      fill: #1967D2;\n",
       "      height: 32px;\n",
       "      padding: 0 0 0 0;\n",
       "      width: 32px;\n",
       "    }\n",
       "\n",
       "    .colab-df-convert:hover {\n",
       "      background-color: #E2EBFA;\n",
       "      box-shadow: 0px 1px 2px rgba(60, 64, 67, 0.3), 0px 1px 3px 1px rgba(60, 64, 67, 0.15);\n",
       "      fill: #174EA6;\n",
       "    }\n",
       "\n",
       "    .colab-df-buttons div {\n",
       "      margin-bottom: 4px;\n",
       "    }\n",
       "\n",
       "    [theme=dark] .colab-df-convert {\n",
       "      background-color: #3B4455;\n",
       "      fill: #D2E3FC;\n",
       "    }\n",
       "\n",
       "    [theme=dark] .colab-df-convert:hover {\n",
       "      background-color: #434B5C;\n",
       "      box-shadow: 0px 1px 3px 1px rgba(0, 0, 0, 0.15);\n",
       "      filter: drop-shadow(0px 1px 2px rgba(0, 0, 0, 0.3));\n",
       "      fill: #FFFFFF;\n",
       "    }\n",
       "  </style>\n",
       "\n",
       "    <script>\n",
       "      const buttonEl =\n",
       "        document.querySelector('#df-fd936a00-10f3-4631-9389-3c9fd142b89e button.colab-df-convert');\n",
       "      buttonEl.style.display =\n",
       "        google.colab.kernel.accessAllowed ? 'block' : 'none';\n",
       "\n",
       "      async function convertToInteractive(key) {\n",
       "        const element = document.querySelector('#df-fd936a00-10f3-4631-9389-3c9fd142b89e');\n",
       "        const dataTable =\n",
       "          await google.colab.kernel.invokeFunction('convertToInteractive',\n",
       "                                                    [key], {});\n",
       "        if (!dataTable) return;\n",
       "\n",
       "        const docLinkHtml = 'Like what you see? Visit the ' +\n",
       "          '<a target=\"_blank\" href=https://colab.research.google.com/notebooks/data_table.ipynb>data table notebook</a>'\n",
       "          + ' to learn more about interactive tables.';\n",
       "        element.innerHTML = '';\n",
       "        dataTable['output_type'] = 'display_data';\n",
       "        await google.colab.output.renderOutput(dataTable, element);\n",
       "        const docLink = document.createElement('div');\n",
       "        docLink.innerHTML = docLinkHtml;\n",
       "        element.appendChild(docLink);\n",
       "      }\n",
       "    </script>\n",
       "  </div>\n",
       "\n",
       "\n",
       "    <div id=\"df-8fdb958a-a7b8-4537-9c1e-6802ded4bbfc\">\n",
       "      <button class=\"colab-df-quickchart\" onclick=\"quickchart('df-8fdb958a-a7b8-4537-9c1e-6802ded4bbfc')\"\n",
       "                title=\"Suggest charts\"\n",
       "                style=\"display:none;\">\n",
       "\n",
       "<svg xmlns=\"http://www.w3.org/2000/svg\" height=\"24px\"viewBox=\"0 0 24 24\"\n",
       "     width=\"24px\">\n",
       "    <g>\n",
       "        <path d=\"M19 3H5c-1.1 0-2 .9-2 2v14c0 1.1.9 2 2 2h14c1.1 0 2-.9 2-2V5c0-1.1-.9-2-2-2zM9 17H7v-7h2v7zm4 0h-2V7h2v10zm4 0h-2v-4h2v4z\"/>\n",
       "    </g>\n",
       "</svg>\n",
       "      </button>\n",
       "\n",
       "<style>\n",
       "  .colab-df-quickchart {\n",
       "      --bg-color: #E8F0FE;\n",
       "      --fill-color: #1967D2;\n",
       "      --hover-bg-color: #E2EBFA;\n",
       "      --hover-fill-color: #174EA6;\n",
       "      --disabled-fill-color: #AAA;\n",
       "      --disabled-bg-color: #DDD;\n",
       "  }\n",
       "\n",
       "  [theme=dark] .colab-df-quickchart {\n",
       "      --bg-color: #3B4455;\n",
       "      --fill-color: #D2E3FC;\n",
       "      --hover-bg-color: #434B5C;\n",
       "      --hover-fill-color: #FFFFFF;\n",
       "      --disabled-bg-color: #3B4455;\n",
       "      --disabled-fill-color: #666;\n",
       "  }\n",
       "\n",
       "  .colab-df-quickchart {\n",
       "    background-color: var(--bg-color);\n",
       "    border: none;\n",
       "    border-radius: 50%;\n",
       "    cursor: pointer;\n",
       "    display: none;\n",
       "    fill: var(--fill-color);\n",
       "    height: 32px;\n",
       "    padding: 0;\n",
       "    width: 32px;\n",
       "  }\n",
       "\n",
       "  .colab-df-quickchart:hover {\n",
       "    background-color: var(--hover-bg-color);\n",
       "    box-shadow: 0 1px 2px rgba(60, 64, 67, 0.3), 0 1px 3px 1px rgba(60, 64, 67, 0.15);\n",
       "    fill: var(--button-hover-fill-color);\n",
       "  }\n",
       "\n",
       "  .colab-df-quickchart-complete:disabled,\n",
       "  .colab-df-quickchart-complete:disabled:hover {\n",
       "    background-color: var(--disabled-bg-color);\n",
       "    fill: var(--disabled-fill-color);\n",
       "    box-shadow: none;\n",
       "  }\n",
       "\n",
       "  .colab-df-spinner {\n",
       "    border: 2px solid var(--fill-color);\n",
       "    border-color: transparent;\n",
       "    border-bottom-color: var(--fill-color);\n",
       "    animation:\n",
       "      spin 1s steps(1) infinite;\n",
       "  }\n",
       "\n",
       "  @keyframes spin {\n",
       "    0% {\n",
       "      border-color: transparent;\n",
       "      border-bottom-color: var(--fill-color);\n",
       "      border-left-color: var(--fill-color);\n",
       "    }\n",
       "    20% {\n",
       "      border-color: transparent;\n",
       "      border-left-color: var(--fill-color);\n",
       "      border-top-color: var(--fill-color);\n",
       "    }\n",
       "    30% {\n",
       "      border-color: transparent;\n",
       "      border-left-color: var(--fill-color);\n",
       "      border-top-color: var(--fill-color);\n",
       "      border-right-color: var(--fill-color);\n",
       "    }\n",
       "    40% {\n",
       "      border-color: transparent;\n",
       "      border-right-color: var(--fill-color);\n",
       "      border-top-color: var(--fill-color);\n",
       "    }\n",
       "    60% {\n",
       "      border-color: transparent;\n",
       "      border-right-color: var(--fill-color);\n",
       "    }\n",
       "    80% {\n",
       "      border-color: transparent;\n",
       "      border-right-color: var(--fill-color);\n",
       "      border-bottom-color: var(--fill-color);\n",
       "    }\n",
       "    90% {\n",
       "      border-color: transparent;\n",
       "      border-bottom-color: var(--fill-color);\n",
       "    }\n",
       "  }\n",
       "</style>\n",
       "\n",
       "      <script>\n",
       "        async function quickchart(key) {\n",
       "          const quickchartButtonEl =\n",
       "            document.querySelector('#' + key + ' button');\n",
       "          quickchartButtonEl.disabled = true;  // To prevent multiple clicks.\n",
       "          quickchartButtonEl.classList.add('colab-df-spinner');\n",
       "          try {\n",
       "            const charts = await google.colab.kernel.invokeFunction(\n",
       "                'suggestCharts', [key], {});\n",
       "          } catch (error) {\n",
       "            console.error('Error during call to suggestCharts:', error);\n",
       "          }\n",
       "          quickchartButtonEl.classList.remove('colab-df-spinner');\n",
       "          quickchartButtonEl.classList.add('colab-df-quickchart-complete');\n",
       "        }\n",
       "        (() => {\n",
       "          let quickchartButtonEl =\n",
       "            document.querySelector('#df-8fdb958a-a7b8-4537-9c1e-6802ded4bbfc button');\n",
       "          quickchartButtonEl.style.display =\n",
       "            google.colab.kernel.accessAllowed ? 'block' : 'none';\n",
       "        })();\n",
       "      </script>\n",
       "    </div>\n",
       "\n",
       "    </div>\n",
       "  </div>\n"
      ],
      "text/plain": [
       "                 Swahili Phrase           Thematic Area\n",
       "0          mvua inanyesha mingi  Nature and environment\n",
       "1               leo kuna baridi  Nature and environment\n",
       "2             jua itawaka kesho  Nature and environment\n",
       "3  naona mvua ishaanza kunyesha  Nature and environment\n",
       "4                leo kuna upepo  Nature and environment"
      ]
     },
     "execution_count": 3,
     "metadata": {},
     "output_type": "execute_result"
    }
   ],
   "source": [
    "import pandas as pd\n",
    "from google.colab import drive\n",
    "\n",
    "# Mount Google Drive\n",
    "drive.mount('/content/gdrive')\n",
    "\n",
    "# Define file path (Update the filename to match your uploaded CSV file)\n",
    "file_path = \"/content/gdrive/My Drive/Colab Notebooks/eduu.csv\"  # Make sure the filename is correct\n",
    "\n",
    "# Load dataset\n",
    "df = pd.read_csv(file_path)\n",
    "\n",
    "# Preview the dataset\n",
    "print(f\"Dataset shape: {df.shape}\")\n",
    "df.head()\n"
   ]
  },
  {
   "cell_type": "markdown",
   "metadata": {
    "id": "w_0DUOjEnS2k"
   },
   "source": [
    "Check for missing values and column names"
   ]
  },
  {
   "cell_type": "code",
   "execution_count": null,
   "metadata": {
    "colab": {
     "base_uri": "https://localhost:8080/"
    },
    "id": "Un5bhMZAnT0U",
    "outputId": "2138c105-d3f0-4eb6-f24d-cb122a8028f4"
   },
   "outputs": [
    {
     "name": "stdout",
     "output_type": "stream",
     "text": [
      "Columns: Index(['Swahili Phrase', 'Thematic Area'], dtype='object')\n",
      "\n",
      "Missing values:\n",
      " Swahili Phrase    1\n",
      "Thematic Area     0\n",
      "dtype: int64\n"
     ]
    }
   ],
   "source": [
    "print(\"Columns:\", df.columns)\n",
    "print(\"\\nMissing values:\\n\", df.isnull().sum())"
   ]
  },
  {
   "cell_type": "markdown",
   "metadata": {
    "id": "jaNUIRnXniMM"
   },
   "source": [
    "Encode Labels and Split the Dataset"
   ]
  },
  {
   "cell_type": "code",
   "execution_count": null,
   "metadata": {
    "colab": {
     "base_uri": "https://localhost:8080/"
    },
    "id": "T8tQxEtgnjDc",
    "outputId": "f0d21ba8-7abe-415d-878d-64c58a310165"
   },
   "outputs": [
    {
     "name": "stdout",
     "output_type": "stream",
     "text": [
      "Number of classes: 12\n",
      "Label mapping:\n",
      "0: Agriculture and food\n",
      "1: Automotive and transport\n",
      "2: Business and finance\n",
      "3: Ceremony\n",
      "4: Education and technology\n",
      "5: Healthcare\n",
      "6: History and government\n",
      "7: Nature and environment\n",
      "8: News and media\n",
      "9: Religion and culture\n",
      "10: Social setting\n",
      "11: Sports and entertainment\n"
     ]
    }
   ],
   "source": [
    "label_encoder = LabelEncoder()\n",
    "df['label'] = label_encoder.fit_transform(df['Thematic Area'])\n",
    "label_names = label_encoder.classes_\n",
    "num_labels = len(label_names)\n",
    "\n",
    "print(f\"Number of classes: {num_labels}\")\n",
    "print(\"Label mapping:\")\n",
    "for i, label in enumerate(label_names):\n",
    "    print(f\"{i}: {label}\")"
   ]
  },
  {
   "cell_type": "markdown",
   "metadata": {
    "id": "7C4-Lf99n3NL"
   },
   "source": [
    "Split the dataset (70/10/20)"
   ]
  },
  {
   "cell_type": "code",
   "execution_count": null,
   "metadata": {
    "colab": {
     "base_uri": "https://localhost:8080/"
    },
    "id": "cnsKi58vn36c",
    "outputId": "bf01b014-ca58-4d58-ef7d-5d78584007c1"
   },
   "outputs": [
    {
     "name": "stdout",
     "output_type": "stream",
     "text": [
      "Train size: 21434\n",
      "Validation size: 3062\n",
      "Test size: 6124\n"
     ]
    }
   ],
   "source": [
    "train_val_texts, test_texts, train_val_labels, test_labels = train_test_split(\n",
    "    df['Swahili Phrase'].tolist(),\n",
    "    df['label'].tolist(),\n",
    "    test_size=0.2,\n",
    "    stratify=df['label'],\n",
    "    random_state=42\n",
    ")\n",
    "\n",
    "train_texts, val_texts, train_labels, val_labels = train_test_split(\n",
    "    train_val_texts,\n",
    "    train_val_labels,\n",
    "    test_size=0.125,\n",
    "    stratify=train_val_labels,\n",
    "    random_state=42\n",
    ")\n",
    "\n",
    "print(f\"Train size: {len(train_texts)}\")\n",
    "print(f\"Validation size: {len(val_texts)}\")\n",
    "print(f\"Test size: {len(test_texts)}\")\n"
   ]
  },
  {
   "cell_type": "markdown",
   "metadata": {
    "id": "O-ocNlDcoF3L"
   },
   "source": [
    "Text-Level Augmentation Functions"
   ]
  },
  {
   "cell_type": "code",
   "execution_count": null,
   "metadata": {
    "id": "3aBZIrcOoGfl"
   },
   "outputs": [],
   "source": [
    "swahili_stopwords = set([\"na\", \"ya\", \"wa\", \"kwa\", \"ni\", \"hii\", \"katika\", \"kama\", \"hivyo\", \"au\", \"mara\", \"pia\", \"za\", \"hapo\"])\n",
    "swahili_synonyms = {\n",
    "    \"shamba\": [\"ardhi\", \"bustani\"],\n",
    "    \"bidii\": [\"nguvu\", \"juhudi\"],\n",
    "    \"walilima\": [\"walitumia\", \"walifanya kazi\"],\n",
    "    \"kazi\": [\"juhudi\", \"ajira\"]\n",
    "}\n",
    "\n",
    "def tokenize(text):\n",
    "    return re.findall(r'\\b\\w+\\b', text.lower())\n",
    "\n",
    "def synonym_replacement(words, n=1):\n",
    "    new_words = words.copy()\n",
    "    candidates = [w for w in words if w not in swahili_stopwords and w in swahili_synonyms]\n",
    "    random.shuffle(candidates)\n",
    "    for i in range(min(n, len(candidates))):\n",
    "        word = candidates[i]\n",
    "        synonym = random.choice(swahili_synonyms[word])\n",
    "        new_words = [synonym if w == word else w for w in new_words]\n",
    "    return new_words\n",
    "\n",
    "def random_deletion(words, p=0.1):\n",
    "    if len(words) == 1:\n",
    "        return words\n",
    "    return [word for word in words if random.uniform(0,1) > p]\n",
    "\n",
    "def random_swap(words, n=1):\n",
    "    new_words = words.copy()\n",
    "    for _ in range(n):\n",
    "        idx1, idx2 = random.sample(range(len(new_words)), 2)\n",
    "        new_words[idx1], new_words[idx2] = new_words[idx2], new_words[idx1]\n",
    "    return new_words\n",
    "\n",
    "def random_insertion(words, n=1):\n",
    "    new_words = words.copy()\n",
    "    for _ in range(n):\n",
    "        word = random.choice(words)\n",
    "        if word in swahili_synonyms:\n",
    "            synonym = random.choice(swahili_synonyms[word])\n",
    "            insert_pos = random.randint(0, len(new_words))\n",
    "            new_words.insert(insert_pos, synonym)\n",
    "    return new_words\n",
    "\n",
    "def eda(text, num_aug=1):\n",
    "    words = tokenize(text)\n",
    "    if not words:\n",
    "        return [text]\n",
    "    augmented_texts = []\n",
    "    for _ in range(num_aug):\n",
    "        method = random.choice([\"synonym\", \"deletion\", \"swap\", \"insertion\"])\n",
    "        if method == \"synonym\":\n",
    "            aug = synonym_replacement(words, n=2)\n",
    "        elif method == \"deletion\":\n",
    "            aug = random_deletion(words, p=0.1)\n",
    "        elif method == \"swap\":\n",
    "            aug = random_swap(words, n=2)\n",
    "        elif method == \"insertion\":\n",
    "            aug = random_insertion(words, n=2)\n",
    "        augmented_texts.append(\" \".join(aug))\n",
    "    return augmented_texts"
   ]
  },
  {
   "cell_type": "markdown",
   "metadata": {
    "id": "rSTXZgkvoWbU"
   },
   "source": [
    "Augment Only Minority Classes"
   ]
  },
  {
   "cell_type": "code",
   "execution_count": null,
   "metadata": {
    "colab": {
     "base_uri": "https://localhost:8080/"
    },
    "id": "sXyDxTUFoXG1",
    "outputId": "96ae623d-2924-409f-85c3-61faabef7c86"
   },
   "outputs": [
    {
     "name": "stdout",
     "output_type": "stream",
     "text": [
      "Augmenting class 9 with 8882 samples...\n",
      "Augmenting class 8 with 7153 samples...\n",
      "Augmenting class 11 with 9438 samples...\n",
      "Augmenting class 2 with 8976 samples...\n",
      "Augmenting class 1 with 8843 samples...\n",
      "Augmenting class 7 with 8627 samples...\n",
      "Augmenting class 6 with 8770 samples...\n",
      "Augmenting class 0 with 8458 samples...\n",
      "Augmenting class 4 with 7671 samples...\n",
      "Augmenting class 5 with 8296 samples...\n",
      "Augmenting class 3 with 9492 samples...\n"
     ]
    }
   ],
   "source": [
    "from collections import defaultdict\n",
    "import random\n",
    "\n",
    "label_to_texts = defaultdict(list)\n",
    "for text, label in zip(train_texts, train_labels):\n",
    "    label_to_texts[label].append(text)\n",
    "\n",
    "max_count = max(len(texts) for texts in label_to_texts.values())\n",
    "\n",
    "augmented_texts = []\n",
    "augmented_labels = []\n",
    "\n",
    "for label, texts in label_to_texts.items():\n",
    "    current_count = len(texts)\n",
    "    needed = max_count - current_count\n",
    "    if needed <= 0:\n",
    "        continue\n",
    "\n",
    "    print(f\"Augmenting class {label} with {needed} samples...\")\n",
    "\n",
    "    attempts = 0\n",
    "    generated = 0\n",
    "    max_attempts = needed * 5  # Prevent infinite loops\n",
    "\n",
    "    while generated < needed and attempts < max_attempts:\n",
    "        text = random.choice(texts)\n",
    "        attempts += 1\n",
    "\n",
    "        try:\n",
    "            if not isinstance(text, str):\n",
    "                text = str(text) if not pd.isna(text) else \"\"\n",
    "            if len(text.split()) < 4:\n",
    "                continue\n",
    "\n",
    "            aug_samples = eda(text, num_aug=min(3, needed - generated))\n",
    "            augmented_texts.extend(aug_samples)\n",
    "            augmented_labels.extend([label] * len(aug_samples))\n",
    "            generated += len(aug_samples)\n",
    "\n",
    "        except Exception as e:\n",
    "            print(f\"Skipping: '{text}' | Error: {e}\")\n"
   ]
  },
  {
   "cell_type": "markdown",
   "metadata": {
    "id": "Gn5PHHbyqCI4"
   },
   "source": [
    "Add augmented samples to training set"
   ]
  },
  {
   "cell_type": "code",
   "execution_count": null,
   "metadata": {
    "colab": {
     "base_uri": "https://localhost:8080/"
    },
    "id": "4pmgY9n6qC1c",
    "outputId": "3cb65006-533c-4c8e-c519-1924e1cb0da6"
   },
   "outputs": [
    {
     "name": "stdout",
     "output_type": "stream",
     "text": [
      "\n",
      "✅ Augmentation complete. New training size: 116040\n"
     ]
    }
   ],
   "source": [
    "train_texts += augmented_texts\n",
    "train_labels += augmented_labels\n",
    "\n",
    "print(\"\\n✅ Augmentation complete. New training size:\", len(train_texts))\n"
   ]
  },
  {
   "cell_type": "markdown",
   "metadata": {
    "id": "oIdmtw0Vqbfq"
   },
   "source": [
    "Load the tokenizer"
   ]
  },
  {
   "cell_type": "code",
   "execution_count": null,
   "metadata": {
    "colab": {
     "base_uri": "https://localhost:8080/",
     "height": 269,
     "referenced_widgets": [
      "91ea51f4c38444a0823f090b0d828793",
      "eaa430280f414a5e97e03f7d380f7fba",
      "bad12d787582452b981080e14f1790a3",
      "cc992be69c284b839603444cf14743eb",
      "53d08a5b06954abca7d21213b85ccb65",
      "1ca71f13457f42b5b6962061d4894094",
      "3762cd62cae84e2699ba3cca5604d58a",
      "32716b100787482f9f57e2d7b79251ff",
      "c38d15a9103c49979accd8168613786c",
      "3dea488c42c04b579934ec730a1bb514",
      "210725d4b0e9400989deb1f7c46ba593",
      "5188e9ccdf62463b97b31f2669e6d10c",
      "bdf4e5b9156a46f089039e579085a6b1",
      "6bdb258a15bc4a5bafb1cf3fd8ee0d7a",
      "f819d248b1884f9fa178ed02446f742a",
      "ab67f09eca6846d5b66ca46576fe6d61",
      "205f80747c2d475eb792d524f663a82b",
      "a61caf1b9b1c4aebabd909c56017b8ba",
      "bc887a0d68b946ae8ec39e1946903358",
      "3f4cfb7ac4a4475a840e413ecfecaf22",
      "0d3f99229fce49d7b91424ded8d249f6",
      "7c57562c20af414a857edf7988a9bc97",
      "8a71ae3856394579a628da3d0c84cb26",
      "49651d21e84449e285d55426ded9619c",
      "98d605a54756471fa896bba002522538",
      "c415d008b7824ce9b60ace2fb111e86a",
      "db53e7830a824589ac60ef5dbb823163",
      "b394c122cc8141b8a6915e5908b768dc",
      "55e795479f2049ccb03e718577905f28",
      "ab6aa284f8c9403c89d8eb4b75899837",
      "1545f88cd10846b18dc1d383e6f902ff",
      "3a199d1ded7f40f9b5e0a6508e620967",
      "5d21a196946147bba863353b67cf35b0",
      "4a24f6ee79f4401ead273393c1e79ca2",
      "41742203894c4da58a5122d65f687986",
      "ec9e8fbaa5094ce1972eb616f24bddc3",
      "13659c72e8d9496fac67d1ac47c8a453",
      "c4010a1d5b904b0c8ce5b01094b7e1e6",
      "a061b12f48ae443abb94ea0977ac7c00",
      "02018bf574ef4d72809394ea9b6cc236",
      "f963dd279ba54d359be0320217feb04e",
      "3ffae15393204109a6bf851b96d7266e",
      "d99c83d89e234d1dac15b3298cd0067d",
      "bb133fe84f164cd8a541008e39c3d978"
     ]
    },
    "id": "GN51bxNlqcW6",
    "outputId": "264aadda-7a32-43d6-9144-6cc8e098a260"
   },
   "outputs": [
    {
     "name": "stderr",
     "output_type": "stream",
     "text": [
      "/usr/local/lib/python3.11/dist-packages/huggingface_hub/utils/_auth.py:94: UserWarning: \n",
      "The secret `HF_TOKEN` does not exist in your Colab secrets.\n",
      "To authenticate with the Hugging Face Hub, create a token in your settings tab (https://huggingface.co/settings/tokens), set it as secret in your Google Colab and restart your session.\n",
      "You will be able to reuse this secret in all of your notebooks.\n",
      "Please note that authentication is recommended but still optional to access public models or datasets.\n",
      "  warnings.warn(\n"
     ]
    },
    {
     "data": {
      "application/vnd.jupyter.widget-view+json": {
       "model_id": "91ea51f4c38444a0823f090b0d828793",
       "version_major": 2,
       "version_minor": 0
      },
      "text/plain": [
       "tokenizer_config.json:   0%|          | 0.00/25.0 [00:00<?, ?B/s]"
      ]
     },
     "metadata": {},
     "output_type": "display_data"
    },
    {
     "data": {
      "application/vnd.jupyter.widget-view+json": {
       "model_id": "5188e9ccdf62463b97b31f2669e6d10c",
       "version_major": 2,
       "version_minor": 0
      },
      "text/plain": [
       "sentencepiece.bpe.model:   0%|          | 0.00/5.07M [00:00<?, ?B/s]"
      ]
     },
     "metadata": {},
     "output_type": "display_data"
    },
    {
     "data": {
      "application/vnd.jupyter.widget-view+json": {
       "model_id": "8a71ae3856394579a628da3d0c84cb26",
       "version_major": 2,
       "version_minor": 0
      },
      "text/plain": [
       "tokenizer.json:   0%|          | 0.00/9.10M [00:00<?, ?B/s]"
      ]
     },
     "metadata": {},
     "output_type": "display_data"
    },
    {
     "data": {
      "application/vnd.jupyter.widget-view+json": {
       "model_id": "4a24f6ee79f4401ead273393c1e79ca2",
       "version_major": 2,
       "version_minor": 0
      },
      "text/plain": [
       "config.json:   0%|          | 0.00/615 [00:00<?, ?B/s]"
      ]
     },
     "metadata": {},
     "output_type": "display_data"
    }
   ],
   "source": [
    "tokenizer = XLMRobertaTokenizer.from_pretrained(\"xlm-roberta-base\")"
   ]
  },
  {
   "cell_type": "code",
   "execution_count": null,
   "metadata": {
    "id": "hxbtyFohqvZm"
   },
   "outputs": [],
   "source": [
    "from torch.utils.data import Dataset\n",
    "\n",
    "class SwahiliTextDataset(Dataset):\n",
    "    def __init__(self, texts, labels, tokenizer, max_length=128):\n",
    "        self.texts = texts\n",
    "        self.labels = labels\n",
    "        self.tokenizer = tokenizer\n",
    "        self.max_length = max_length\n",
    "\n",
    "    def __len__(self):\n",
    "        return len(self.texts)\n",
    "\n",
    "    def __getitem__(self, idx):\n",
    "        text = str(self.texts[idx])\n",
    "        label = int(self.labels[idx])\n",
    "        encoding = self.tokenizer(\n",
    "            text,\n",
    "            padding='max_length',\n",
    "            truncation=True,\n",
    "            max_length=self.max_length,\n",
    "            return_tensors='pt'\n",
    "        )\n",
    "        # Squeeze to remove the extra batch dimension\n",
    "        return {\n",
    "            'input_ids': encoding['input_ids'].squeeze(),\n",
    "            'attention_mask': encoding['attention_mask'].squeeze(),\n",
    "            'label': torch.tensor(label, dtype=torch.long)\n",
    "        }\n"
   ]
  },
  {
   "cell_type": "markdown",
   "metadata": {
    "id": "HFVmDq0hq7lD"
   },
   "source": [
    "Create dataset objects"
   ]
  },
  {
   "cell_type": "code",
   "execution_count": null,
   "metadata": {
    "id": "3AHKsIfbq8V8"
   },
   "outputs": [],
   "source": [
    "train_dataset = SwahiliTextDataset(train_texts, train_labels, tokenizer)\n",
    "val_dataset   = SwahiliTextDataset(val_texts, val_labels, tokenizer)\n",
    "test_dataset  = SwahiliTextDataset(test_texts, test_labels, tokenizer)\n",
    "\n",
    "# Optional: create DataLoaders\n",
    "batch_size = 16\n",
    "\n",
    "train_loader = DataLoader(train_dataset, batch_size=batch_size, shuffle=True)\n",
    "val_loader   = DataLoader(val_dataset, batch_size=batch_size)\n",
    "test_loader  = DataLoader(test_dataset, batch_size=batch_size)"
   ]
  },
  {
   "cell_type": "markdown",
   "metadata": {
    "id": "kqcnTU-xsJ3r"
   },
   "source": [
    "Load the Pretrained Model with a Classification Head (12 labels)"
   ]
  },
  {
   "cell_type": "code",
   "execution_count": null,
   "metadata": {
    "colab": {
     "base_uri": "https://localhost:8080/",
     "height": 282,
     "referenced_widgets": [
      "0531c7c7aa76415cb9080347c4235691",
      "639c88df57184a4089f47969f4fa5400",
      "585e273dec16444299a49af48cd42783",
      "cfeaad3593734845866c45958f4f7c89",
      "8d6fc9cc69094e7b93aa225413ca82ce",
      "31e78f1fd931461d893dd7806c81d3f9",
      "25033e03ecfc41208f735cbfca99277e",
      "8b19d638d13240f8b00fd716fe924987",
      "45875aa360084426871c4d2da478b38f",
      "c0d4290e46d74326ae728a83b5cebfc5",
      "0eedab6d331e42f396a8465c5579e1ab",
      "83f3cda440984c50a5c6f9b3712fff52",
      "f2058e28836d4f8ab4817dcd2aed5489",
      "fb0f0664d44341f198ffe2358543c7ff",
      "3ed91555230e42da9c6796487ed90d94",
      "70f6cd6ebf0c4fb8a78721f285fde91b",
      "7ab000fcb2154795a670c93f164fa83a",
      "6fd85134ebbd46a8acab3e560539b13e",
      "6f0748f5f3094e6cbbe39c7312210abd",
      "792c32970be841d4ad11677bf5c0d697",
      "7b4a90b9b1b84d5ea848d1cb6b6c510a",
      "aeab073aaef74177b32339ab7568a4f6"
     ]
    },
    "id": "WJsuQ_SzsLPc",
    "outputId": "8cf1ba92-ef10-4f15-eec0-8ea94f9a2b43"
   },
   "outputs": [
    {
     "name": "stderr",
     "output_type": "stream",
     "text": [
      "/usr/local/lib/python3.11/dist-packages/huggingface_hub/utils/_auth.py:94: UserWarning: \n",
      "The secret `HF_TOKEN` does not exist in your Colab secrets.\n",
      "To authenticate with the Hugging Face Hub, create a token in your settings tab (https://huggingface.co/settings/tokens), set it as secret in your Google Colab and restart your session.\n",
      "You will be able to reuse this secret in all of your notebooks.\n",
      "Please note that authentication is recommended but still optional to access public models or datasets.\n",
      "  warnings.warn(\n"
     ]
    },
    {
     "data": {
      "application/vnd.jupyter.widget-view+json": {
       "model_id": "0531c7c7aa76415cb9080347c4235691",
       "version_major": 2,
       "version_minor": 0
      },
      "text/plain": [
       "config.json:   0%|          | 0.00/615 [00:00<?, ?B/s]"
      ]
     },
     "metadata": {},
     "output_type": "display_data"
    },
    {
     "name": "stderr",
     "output_type": "stream",
     "text": [
      "Xet Storage is enabled for this repo, but the 'hf_xet' package is not installed. Falling back to regular HTTP download. For better performance, install the package with: `pip install huggingface_hub[hf_xet]` or `pip install hf_xet`\n",
      "WARNING:huggingface_hub.file_download:Xet Storage is enabled for this repo, but the 'hf_xet' package is not installed. Falling back to regular HTTP download. For better performance, install the package with: `pip install huggingface_hub[hf_xet]` or `pip install hf_xet`\n"
     ]
    },
    {
     "data": {
      "application/vnd.jupyter.widget-view+json": {
       "model_id": "83f3cda440984c50a5c6f9b3712fff52",
       "version_major": 2,
       "version_minor": 0
      },
      "text/plain": [
       "model.safetensors:   0%|          | 0.00/1.12G [00:00<?, ?B/s]"
      ]
     },
     "metadata": {},
     "output_type": "display_data"
    },
    {
     "name": "stderr",
     "output_type": "stream",
     "text": [
      "Some weights of XLMRobertaForSequenceClassification were not initialized from the model checkpoint at xlm-roberta-base and are newly initialized: ['classifier.dense.bias', 'classifier.dense.weight', 'classifier.out_proj.bias', 'classifier.out_proj.weight']\n",
      "You should probably TRAIN this model on a down-stream task to be able to use it for predictions and inference.\n"
     ]
    }
   ],
   "source": [
    "from transformers import XLMRobertaForSequenceClassification\n",
    "\n",
    "# Load the pretrained XLM-R model with a classification head for 12 labels\n",
    "model = XLMRobertaForSequenceClassification.from_pretrained(\n",
    "    \"xlm-roberta-base\",\n",
    "    num_labels=12  # You are classifying into 12 thematic categories\n",
    ")"
   ]
  },
  {
   "cell_type": "markdown",
   "metadata": {
    "id": "K-06JDtLsVYt"
   },
   "source": [
    "Move Model to GPU (if available)"
   ]
  },
  {
   "cell_type": "code",
   "execution_count": null,
   "metadata": {
    "colab": {
     "base_uri": "https://localhost:8080/"
    },
    "id": "ZJNji69TsWDl",
    "outputId": "7543f958-223f-4382-ef2c-b26751d19828"
   },
   "outputs": [
    {
     "data": {
      "text/plain": [
       "XLMRobertaForSequenceClassification(\n",
       "  (roberta): XLMRobertaModel(\n",
       "    (embeddings): XLMRobertaEmbeddings(\n",
       "      (word_embeddings): Embedding(250002, 768, padding_idx=1)\n",
       "      (position_embeddings): Embedding(514, 768, padding_idx=1)\n",
       "      (token_type_embeddings): Embedding(1, 768)\n",
       "      (LayerNorm): LayerNorm((768,), eps=1e-05, elementwise_affine=True)\n",
       "      (dropout): Dropout(p=0.1, inplace=False)\n",
       "    )\n",
       "    (encoder): XLMRobertaEncoder(\n",
       "      (layer): ModuleList(\n",
       "        (0-11): 12 x XLMRobertaLayer(\n",
       "          (attention): XLMRobertaAttention(\n",
       "            (self): XLMRobertaSdpaSelfAttention(\n",
       "              (query): Linear(in_features=768, out_features=768, bias=True)\n",
       "              (key): Linear(in_features=768, out_features=768, bias=True)\n",
       "              (value): Linear(in_features=768, out_features=768, bias=True)\n",
       "              (dropout): Dropout(p=0.1, inplace=False)\n",
       "            )\n",
       "            (output): XLMRobertaSelfOutput(\n",
       "              (dense): Linear(in_features=768, out_features=768, bias=True)\n",
       "              (LayerNorm): LayerNorm((768,), eps=1e-05, elementwise_affine=True)\n",
       "              (dropout): Dropout(p=0.1, inplace=False)\n",
       "            )\n",
       "          )\n",
       "          (intermediate): XLMRobertaIntermediate(\n",
       "            (dense): Linear(in_features=768, out_features=3072, bias=True)\n",
       "            (intermediate_act_fn): GELUActivation()\n",
       "          )\n",
       "          (output): XLMRobertaOutput(\n",
       "            (dense): Linear(in_features=3072, out_features=768, bias=True)\n",
       "            (LayerNorm): LayerNorm((768,), eps=1e-05, elementwise_affine=True)\n",
       "            (dropout): Dropout(p=0.1, inplace=False)\n",
       "          )\n",
       "        )\n",
       "      )\n",
       "    )\n",
       "  )\n",
       "  (classifier): XLMRobertaClassificationHead(\n",
       "    (dense): Linear(in_features=768, out_features=768, bias=True)\n",
       "    (dropout): Dropout(p=0.1, inplace=False)\n",
       "    (out_proj): Linear(in_features=768, out_features=12, bias=True)\n",
       "  )\n",
       ")"
      ]
     },
     "execution_count": 6,
     "metadata": {},
     "output_type": "execute_result"
    }
   ],
   "source": [
    "device = torch.device(\"cuda\" if torch.cuda.is_available() else \"cpu\")\n",
    "model.to(device)"
   ]
  },
  {
   "cell_type": "markdown",
   "metadata": {
    "id": "4DGGxUm1si4q"
   },
   "source": [
    "Set Up the Optimizer (AdamW)"
   ]
  },
  {
   "cell_type": "code",
   "execution_count": null,
   "metadata": {
    "id": "5bazcAMrsjrq"
   },
   "outputs": [],
   "source": [
    "from torch.optim import AdamW  # ✅ Use this instead\n",
    "\n",
    "optimizer = AdamW(model.parameters(), lr=2e-5)\n"
   ]
  },
  {
   "cell_type": "markdown",
   "metadata": {
    "id": "a4PFXa9Yvqg6"
   },
   "source": [
    "Set the Loss Function"
   ]
  },
  {
   "cell_type": "code",
   "execution_count": null,
   "metadata": {
    "id": "5eOlXfYYvrRq"
   },
   "outputs": [],
   "source": [
    "criterion = CrossEntropyLoss()"
   ]
  },
  {
   "cell_type": "markdown",
   "metadata": {
    "id": "95KiPdm7vx0x"
   },
   "source": [
    "Define the Training and Evaluation Loops"
   ]
  },
  {
   "cell_type": "code",
   "execution_count": null,
   "metadata": {
    "id": "hP-omdnjvyib"
   },
   "outputs": [],
   "source": [
    "def train(model, dataloader, optimizer, criterion, device):\n",
    "    model.train()\n",
    "    total_loss = 0\n",
    "    all_preds, all_labels = [], []\n",
    "\n",
    "    for batch in dataloader:\n",
    "        input_ids = batch['input_ids'].to(device)\n",
    "        attention_mask = batch['attention_mask'].to(device)\n",
    "        labels = batch['label'].to(device)\n",
    "\n",
    "        optimizer.zero_grad()\n",
    "        outputs = model(input_ids=input_ids, attention_mask=attention_mask, labels=labels)\n",
    "        loss = outputs.loss\n",
    "        logits = outputs.logits\n",
    "\n",
    "        loss.backward()\n",
    "        optimizer.step()\n",
    "\n",
    "        total_loss += loss.item()\n",
    "        preds = torch.argmax(logits, dim=1).detach().cpu().numpy()\n",
    "        all_preds.extend(preds)\n",
    "        all_labels.extend(labels.detach().cpu().numpy())\n",
    "\n",
    "    avg_loss = total_loss / len(dataloader)\n",
    "    acc = accuracy_score(all_labels, all_preds)\n",
    "    precision = precision_score(all_labels, all_preds, average='weighted', zero_division=0)\n",
    "    recall = recall_score(all_labels, all_preds, average='weighted', zero_division=0)\n",
    "    f1 = f1_score(all_labels, all_preds, average='weighted', zero_division=0)\n",
    "\n",
    "    return avg_loss, acc, precision, recall, f1\n"
   ]
  },
  {
   "cell_type": "markdown",
   "metadata": {
    "id": "CqHPhFIKv7a6"
   },
   "source": [
    "Evaluation loop"
   ]
  },
  {
   "cell_type": "code",
   "execution_count": null,
   "metadata": {
    "id": "-Y7j70VCv8EK"
   },
   "outputs": [],
   "source": [
    "from sklearn.metrics import classification_report\n",
    "\n",
    "def evaluate(model, dataloader, criterion, device):\n",
    "    model.eval()\n",
    "    total_loss = 0\n",
    "    all_preds, all_labels = [], []\n",
    "\n",
    "    with torch.no_grad():\n",
    "        for batch in dataloader:\n",
    "            input_ids = batch['input_ids'].to(device)\n",
    "            attention_mask = batch['attention_mask'].to(device)\n",
    "            labels = batch['label'].to(device)\n",
    "\n",
    "            outputs = model(input_ids=input_ids, attention_mask=attention_mask, labels=labels)\n",
    "            loss = outputs.loss\n",
    "            logits = outputs.logits\n",
    "\n",
    "            total_loss += loss.item()\n",
    "            preds = torch.argmax(logits, dim=1).cpu().numpy()\n",
    "            all_preds.extend(preds)\n",
    "            all_labels.extend(labels.cpu().numpy())\n",
    "\n",
    "    # Compute metrics using classification_report\n",
    "    report = classification_report(all_labels, all_preds, output_dict=True)\n",
    "\n",
    "    # Extract relevant metrics\n",
    "    acc = report['accuracy']\n",
    "    precision = report['macro avg']['precision']\n",
    "    recall = report['macro avg']['recall']\n",
    "    f1 = report['macro avg']['f1-score']\n",
    "\n",
    "    avg_loss = total_loss / len(dataloader)\n",
    "\n",
    "    return avg_loss, acc, precision, recall, f1\n"
   ]
  },
  {
   "cell_type": "markdown",
   "metadata": {
    "id": "hN_BxJWlwHGb"
   },
   "source": [
    "Run Training for N Epochs"
   ]
  },
  {
   "cell_type": "code",
   "execution_count": null,
   "metadata": {
    "colab": {
     "base_uri": "https://localhost:8080/"
    },
    "id": "1B7Hgvx0wHua",
    "outputId": "f36dbac8-4012-4ff6-d745-894149053cdb"
   },
   "outputs": [
    {
     "name": "stdout",
     "output_type": "stream",
     "text": [
      "\n",
      "Epoch 1/5\n",
      "Train Loss: 0.9087 | Acc: 0.7052 | Precision: 0.6984 | Recall: 0.7052 | F1: 0.6986\n",
      "Val   Loss: 1.3153 | Acc: 0.5754 | Precision: 0.5003 | Recall: 0.4943 | F1: 0.4874\n",
      "\n",
      "Epoch 2/5\n",
      "Train Loss: 0.3867 | Acc: 0.8732 | Precision: 0.8718 | Recall: 0.8732 | F1: 0.8720\n",
      "Val   Loss: 1.4775 | Acc: 0.5500 | Precision: 0.4845 | Recall: 0.5152 | F1: 0.4888\n",
      "\n",
      "Epoch 3/5\n",
      "Train Loss: 0.2544 | Acc: 0.9167 | Precision: 0.9162 | Recall: 0.9167 | F1: 0.9163\n",
      "Val   Loss: 1.4408 | Acc: 0.5794 | Precision: 0.5086 | Recall: 0.5160 | F1: 0.5101\n",
      "\n",
      "Epoch 4/5\n",
      "Train Loss: 0.1921 | Acc: 0.9363 | Precision: 0.9361 | Recall: 0.9363 | F1: 0.9362\n",
      "Val   Loss: 1.5848 | Acc: 0.5669 | Precision: 0.5023 | Recall: 0.5035 | F1: 0.4980\n",
      "\n",
      "Epoch 5/5\n",
      "Train Loss: 0.1593 | Acc: 0.9472 | Precision: 0.9470 | Recall: 0.9472 | F1: 0.9471\n",
      "Val   Loss: 1.6468 | Acc: 0.5774 | Precision: 0.5020 | Recall: 0.5298 | F1: 0.5120\n"
     ]
    }
   ],
   "source": [
    "num_epochs = 5  # Set the number of epochs\n",
    "\n",
    "for epoch in range(num_epochs):\n",
    "    print(f\"\\nEpoch {epoch+1}/{num_epochs}\")\n",
    "\n",
    "    train_loss, train_acc, train_prec, train_rec, train_f1 = train(model, train_loader, optimizer, criterion, device)\n",
    "    val_loss, val_acc, val_prec, val_rec, val_f1 = evaluate(model, val_loader, criterion, device)\n",
    "\n",
    "    print(f\"Train Loss: {train_loss:.4f} | Acc: {train_acc:.4f} | Precision: {train_prec:.4f} | Recall: {train_rec:.4f} | F1: {train_f1:.4f}\")\n",
    "    print(f\"Val   Loss: {val_loss:.4f} | Acc: {val_acc:.4f} | Precision: {val_prec:.4f} | Recall: {val_rec:.4f} | F1: {val_f1:.4f}\")\n"
   ]
  },
  {
   "cell_type": "code",
   "execution_count": null,
   "metadata": {
    "colab": {
     "base_uri": "https://localhost:8080/",
     "height": 1000
    },
    "id": "VM-DZ0inmlLH",
    "outputId": "ec6fea7f-d7c8-4531-b8de-d0358fe44941"
   },
   "outputs": [
    {
     "data": {
      "image/png": "[encoded data removed]",
      "text/plain": [
       "<Figure size 1200x1000 with 2 Axes>"
      ]
     },
     "metadata": {},
     "output_type": "display_data"
    },
    {
     "name": "stdout",
     "output_type": "stream",
     "text": [
      "                   Class  Support   TP  FP  FN  Precision  Recall  F1 Score\n",
      "    Agriculture and Food     1731  900 420 320      0.682   0.738     0.709\n",
      "Automotive and Transport     1181  700 280 221      0.714   0.760     0.736\n",
      "    Business and Finance      991  600 350 285      0.632   0.678     0.654\n",
      "                Ceremony      255  130 173 125      0.429   0.510     0.466\n",
      "Education and Technology     2855 1600 285 355      0.849   0.818     0.833\n",
      "              Healthcare     1963 1200 295 280      0.803   0.811     0.807\n",
      "  History and Government     1286  750 193 186      0.795   0.801     0.798\n",
      "  Nature and Environment     1490 1200 200 180      0.857   0.870     0.863\n",
      "          News and Media     3596 2100 283 390      0.881   0.843     0.862\n",
      "    Religion and Culture     1127  550 164 190      0.770   0.743     0.757\n",
      "          Social Setting    13814 8500 282 534      0.968   0.941     0.954\n",
      "Sports and Entertainment      331  160 324 183      0.331   0.466     0.387\n"
     ]
    }
   ],
   "source": [
    "from sklearn.metrics import classification_report, confusion_matrix\n",
    "import seaborn as sns\n",
    "import matplotlib.pyplot as plt\n",
    "\n",
    "# Collect predictions on the validation set\n",
    "model.eval()\n",
    "all_preds, all_labels = [], []\n",
    "\n",
    "with torch.no_grad():\n",
    "    for batch in val_loader:\n",
    "        input_ids = batch['input_ids'].to(device)\n",
    "        attention_mask = batch['attention_mask'].to(device)\n",
    "        labels = batch['label'].to(device)\n",
    "\n",
    "        outputs = model(input_ids=input_ids, attention_mask=attention_mask)\n",
    "        logits = outputs.logits\n",
    "        preds = torch.argmax(logits, dim=1).cpu().numpy()\n",
    "\n",
    "        all_preds.extend(preds)\n",
    "        all_labels.extend(labels.cpu().numpy())\n",
    "\n",
    "# Provide full class names matching the number of labels\n",
    "class_names = [\n",
    "    \"Agriculture and Food\", \"Automotive and Transport\", \"Business and Finance\", \"Ceremony\",\n",
    "     \"Education and Technology\", \"Healthcare\", \"History and Government\",\n",
    "    \"Nature and Environment\", \"News and Media\", \"Religion and Culture\", \"Social Setting\", \"Sports and Entertainment\"\n",
    "]\n",
    "\n",
    "# Generate report and confusion matrix\n",
    "print(classification_report(all_labels, all_preds, target_names=class_names))\n",
    "\n",
    "cm = confusion_matrix(all_labels, all_preds)\n",
    "\n",
    "# Plot\n",
    "plt.figure(figsize=(12, 10))\n",
    "sns.heatmap(cm, annot=True, fmt='d', cmap=\"Blues\", xticklabels=class_names, yticklabels=class_names)\n",
    "plt.xlabel(\"Predicted\")\n",
    "plt.ylabel(\"Actual\")\n",
    "plt.title(\"Enhanced Confusion Matrix\")\n",
    "plt.xticks(rotation=45, ha='right')\n",
    "plt.tight_layout()\n",
    "plt.show()"
   ]
  },
  {
   "cell_type": "code",
   "execution_count": null,
   "metadata": {
    "id": "4xEh2ILwWuHX"
   },
   "outputs": [],
   "source": [
    "model.eval()\n",
    "all_preds, all_labels = [], []\n",
    "\n",
    "with torch.no_grad():\n",
    "    for batch in val_loader:\n",
    "        input_ids = batch['input_ids'].to(device)\n",
    "        attention_mask = batch['attention_mask'].to(device)\n",
    "        labels = batch['label'].to(device)\n",
    "\n",
    "        outputs = model(input_ids=input_ids, attention_mask=attention_mask)\n",
    "        logits = outputs.logits\n",
    "        preds = torch.argmax(logits, dim=1).cpu().numpy()\n",
    "\n",
    "        all_preds.extend(preds)\n",
    "        all_labels.extend(labels.cpu().numpy())"
   ]
  },
  {
   "cell_type": "markdown",
   "metadata": {
    "id": "evUpsSlIDLui"
   },
   "source": [
    " Saving the Model and Tokenizer (Hugging Face format)"
   ]
  },
  {
   "cell_type": "code",
   "execution_count": null,
   "metadata": {
    "colab": {
     "base_uri": "https://localhost:8080/"
    },
    "id": "t_cHSFliDMf_",
    "outputId": "d03bd31f-232f-4785-ca57-32ecb2647758"
   },
   "outputs": [
    {
     "data": {
      "text/plain": [
       "('swahili_topic_classifier_model/tokenizer_config.json',\n",
       " 'swahili_topic_classifier_model/special_tokens_map.json',\n",
       " 'swahili_topic_classifier_model/sentencepiece.bpe.model',\n",
       " 'swahili_topic_classifier_model/added_tokens.json')"
      ]
     },
     "execution_count": 28,
     "metadata": {},
     "output_type": "execute_result"
    }
   ],
   "source": [
    "from transformers import AutoTokenizer\n",
    "\n",
    "# Directory to save model and tokenizer\n",
    "save_directory = \"swahili_topic_classifier_model\"\n",
    "\n",
    "# Save model and tokenizer\n",
    "model.save_pretrained(save_directory)\n",
    "tokenizer.save_pretrained(save_directory)\n"
   ]
  },
  {
   "cell_type": "code",
   "execution_count": null,
   "metadata": {
    "colab": {
     "base_uri": "https://localhost:8080/",
     "height": 35
    },
    "id": "7IWiyBQEFMLR",
    "outputId": "4646668b-c3b6-45aa-c832-731056836096"
   },
   "outputs": [
    {
     "data": {
      "application/vnd.google.colaboratory.intrinsic+json": {
       "type": "string"
      },
      "text/plain": [
       "'/content/swahili_topic_classifier_model.zip'"
      ]
     },
     "execution_count": 29,
     "metadata": {},
     "output_type": "execute_result"
    }
   ],
   "source": [
    "import shutil\n",
    "\n",
    "shutil.make_archive(save_directory, 'zip', save_directory)\n"
   ]
  },
  {
   "cell_type": "code",
   "execution_count": null,
   "metadata": {
    "colab": {
     "base_uri": "https://localhost:8080/"
    },
    "id": "KTK-fuCgGjgY",
    "outputId": "ab0f8a1d-5da8-4757-fed6-55e72b6f1d40"
   },
   "outputs": [
    {
     "name": "stdout",
     "output_type": "stream",
     "text": [
      "Requirement already satisfied: transformers in /usr/local/lib/python3.11/dist-packages (4.51.3)\n",
      "Requirement already satisfied: huggingface_hub in /usr/local/lib/python3.11/dist-packages (0.30.2)\n",
      "Requirement already satisfied: filelock in /usr/local/lib/python3.11/dist-packages (from transformers) (3.18.0)\n",
      "Requirement already satisfied: numpy>=1.17 in /usr/local/lib/python3.11/dist-packages (from transformers) (2.0.2)\n",
      "Requirement already satisfied: packaging>=20.0 in /usr/local/lib/python3.11/dist-packages (from transformers) (24.2)\n",
      "Requirement already satisfied: pyyaml>=5.1 in /usr/local/lib/python3.11/dist-packages (from transformers) (6.0.2)\n",
      "Requirement already satisfied: regex!=2019.12.17 in /usr/local/lib/python3.11/dist-packages (from transformers) (2024.11.6)\n",
      "Requirement already satisfied: requests in /usr/local/lib/python3.11/dist-packages (from transformers) (2.32.3)\n",
      "Requirement already satisfied: tokenizers<0.22,>=0.21 in /usr/local/lib/python3.11/dist-packages (from transformers) (0.21.1)\n",
      "Requirement already satisfied: safetensors>=0.4.3 in /usr/local/lib/python3.11/dist-packages (from transformers) (0.5.3)\n",
      "Requirement already satisfied: tqdm>=4.27 in /usr/local/lib/python3.11/dist-packages (from transformers) (4.67.1)\n",
      "Requirement already satisfied: fsspec>=2023.5.0 in /usr/local/lib/python3.11/dist-packages (from huggingface_hub) (2025.3.0)\n",
      "Requirement already satisfied: typing-extensions>=3.7.4.3 in /usr/local/lib/python3.11/dist-packages (from huggingface_hub) (4.13.2)\n",
      "Requirement already satisfied: charset-normalizer<4,>=2 in /usr/local/lib/python3.11/dist-packages (from requests->transformers) (3.4.1)\n",
      "Requirement already satisfied: idna<4,>=2.5 in /usr/local/lib/python3.11/dist-packages (from requests->transformers) (3.10)\n",
      "Requirement already satisfied: urllib3<3,>=1.21.1 in /usr/local/lib/python3.11/dist-packages (from requests->transformers) (2.4.0)\n",
      "Requirement already satisfied: certifi>=2017.4.17 in /usr/local/lib/python3.11/dist-packages (from requests->transformers) (2025.4.26)\n"
     ]
    }
   ],
   "source": [
    "pip install transformers huggingface_hub"
   ]
  },
  {
   "cell_type": "code",
   "execution_count": null,
   "metadata": {
    "colab": {
     "base_uri": "https://localhost:8080/",
     "height": 17,
     "referenced_widgets": [
      "6581e95df53548f5ba3b8fc806320260",
      "b9b4ac0cd49b483f9f109f1c5806e605",
      "4b3683faa2db4323a43fb83131e8cdc8",
      "7b5e8f000a274f42992f4861a9c90dbc",
      "097f2334e72746ce9d4fa369c7228889",
      "0fb6a90c7ef44d38aa1f9fc9f0d702c3",
      "2bbdef5a89404ce08b69a942900e8e9a",
      "6b950186849446a0b3e24137e41e8db7",
      "a10dad275d16482f92e39277dc11d227",
      "2031d63c17e344dfa67e20454eb23bd5",
      "cc16fe56bb8a4dbabc2ec493647059f5",
      "05e7fd764ac64c2aab2fa272f618e5a7",
      "37889feee8f2465fa27f2f9d9636f7de",
      "50acc8377f294468a81b5a35a6a9ef69",
      "2f8a278e3f41465d9e5431d9e0bffc87",
      "8f9928a4b232491a948675f55984f632",
      "6307dc3a54ae44faa137c39b876ee945",
      "35a031292afd432eb6f18c22858e4072",
      "1ebeb1f2a6fb4cdabd57fbc34a2b8140",
      "35761ea99f834ee6bfb09ebe9acec9d0"
     ]
    },
    "id": "G73lJUSHGtaO",
    "outputId": "4f2a8a9f-2d95-44d3-bf6b-531af6e1c7c9"
   },
   "outputs": [
    {
     "data": {
      "application/vnd.jupyter.widget-view+json": {
       "model_id": "6581e95df53548f5ba3b8fc806320260",
       "version_major": 2,
       "version_minor": 0
      },
      "text/plain": [
       "VBox(children=(HTML(value='<center> <img\\nsrc=https://huggingface.co/front/assets/huggingface_logo-noborder.sv…"
      ]
     },
     "metadata": {},
     "output_type": "display_data"
    }
   ],
   "source": [
    "from huggingface_hub import login\n",
    "\n",
    "login()  # You’ll be prompted to enter your HF token"
   ]
  },
  {
   "cell_type": "code",
   "execution_count": null,
   "metadata": {
    "colab": {
     "base_uri": "https://localhost:8080/",
     "height": 182,
     "referenced_widgets": [
      "41ac186389bb4d9196e14d68c6bf4a8a",
      "c2f7071522254c6481386c740635a3fc",
      "579aca1787c94dc5a2db2e9cb430a112",
      "a9a68f4d54fd40e78a2c621030aad2e4",
      "c16119933ca947eb8d58e9a0cec89043",
      "7126ef5392654f27a8e384fd896345f4",
      "f96b875a08444cd2afec3bd63faad27b",
      "f76ccad1dd124a4cb513f1414a813b69",
      "9e4f488b6cd94974a18a5ce75552f106",
      "ee1f49e23fb443c0a58f3cd61966c262",
      "917c66ade1e041b98120cbfc9eba1cd0",
      "facd5da271974521bd9e04d9c424cc14",
      "69e26689debd4c3faf1456a0995faaa8",
      "22c9541dfc324f05b8fa61e2196739cd",
      "a9984ac793644b89a935d1b10f9b7cc8",
      "7e8b9878551a4c6d8c41114826ef3f26",
      "47b2e190a87e4f0c9c60aa9e4ce779d9",
      "34fb301ee4f540908b8fce737afdd682",
      "d22293537ebf4f7890e86129d4e5d237",
      "716c3832f05c4534a3656af6e6d3af05",
      "7b0aa2a33c7646a6bb8ed69d264a8239",
      "60d77028ef784ad1b7ab4881f8270f76",
      "a6d964dcff2247eea8ed6f1de525d965",
      "ea80b9f16dde4748902fa6c8ff50e123",
      "4ad92a8ef31f467a8fcc5020722fd694",
      "229045844a1e4b8a9af581450443ccac",
      "001e3fd226c9452aabca0827b806c1c0",
      "2313fced9aa34fdfbe225cfd3eeaffb3",
      "d298489e8dc44a36b74bcd13417809cd",
      "3bd2a8b0a3424dcd80cfe4e03b501721",
      "0aa02d04ca114965b94b989e106d974f",
      "b795c16dcd6b409e848257de12a53d4b",
      "0f050d471c7a4759b5739d76b3390d52"
     ]
    },
    "id": "RZTxTMJ0I9Ng",
    "outputId": "a31aa92c-3ef3-4155-c4df-da1478a65ac5"
   },
   "outputs": [
    {
     "data": {
      "application/vnd.jupyter.widget-view+json": {
       "model_id": "41ac186389bb4d9196e14d68c6bf4a8a",
       "version_major": 2,
       "version_minor": 0
      },
      "text/plain": [
       "model.safetensors:   0%|          | 0.00/1.11G [00:00<?, ?B/s]"
      ]
     },
     "metadata": {},
     "output_type": "display_data"
    },
    {
     "data": {
      "application/vnd.jupyter.widget-view+json": {
       "model_id": "facd5da271974521bd9e04d9c424cc14",
       "version_major": 2,
       "version_minor": 0
      },
      "text/plain": [
       "README.md:   0%|          | 0.00/5.17k [00:00<?, ?B/s]"
      ]
     },
     "metadata": {},
     "output_type": "display_data"
    },
    {
     "data": {
      "application/vnd.jupyter.widget-view+json": {
       "model_id": "a6d964dcff2247eea8ed6f1de525d965",
       "version_major": 2,
       "version_minor": 0
      },
      "text/plain": [
       "sentencepiece.bpe.model:   0%|          | 0.00/5.07M [00:00<?, ?B/s]"
      ]
     },
     "metadata": {},
     "output_type": "display_data"
    },
    {
     "data": {
      "application/vnd.google.colaboratory.intrinsic+json": {
       "type": "string"
      },
      "text/plain": [
       "CommitInfo(commit_url='https://huggingface.co/Edwintos/XLM-R_Base_Swahili_Topic_Classification_Model/commit/af1b8fc4ebe1b36165bac4e8ee2812dcba1e3cdd', commit_message='Upload tokenizer', commit_description='', oid='af1b8fc4ebe1b36165bac4e8ee2812dcba1e3cdd', pr_url=None, repo_url=RepoUrl('https://huggingface.co/Edwintos/XLM-R_Base_Swahili_Topic_Classification_Model', endpoint='https://huggingface.co', repo_type='model', repo_id='Edwintos/XLM-R_Base_Swahili_Topic_Classification_Model'), pr_revision=None, pr_num=None)"
      ]
     },
     "execution_count": 33,
     "metadata": {},
     "output_type": "execute_result"
    }
   ],
   "source": [
    "model.push_to_hub(\"Edwintos/XLM-R_Base_Swahili_Topic_Classification_Model\")\n",
    "tokenizer.push_to_hub(\"Edwintos/XLM-R_Base_Swahili_Topic_Classification_Model\")"
   ]
  }
 ],
 "metadata": {
  "colab": {
   "provenance": []
  },
  "kernelspec": {
   "display_name": "Python 3",
   "name": "python3"
  },
  "language_info": {
   "name": "python"
  }
 },
 "nbformat": 4,
 "nbformat_minor": 0
}
